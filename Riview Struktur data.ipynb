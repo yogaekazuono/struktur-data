{
 "cells": [
  {
   "cell_type": "markdown",
   "metadata": {},
   "source": [
    "# REVIEW MATERI STRUKTUR DATA"
   ]
  },
  {
   "cell_type": "markdown",
   "metadata": {},
   "source": [
    "### Algoritma"
   ]
  },
  {
   "cell_type": "markdown",
   "metadata": {},
   "source": [
    "Beberapa jenis algoritma dasar:\n",
    "    1. sequintial\n",
    "    2. branching\n",
    "    3. itearion"
   ]
  },
  {
   "cell_type": "markdown",
   "metadata": {},
   "source": [
    "1. Sequential : algoritma sequential merupakan algoritma yang harus dikerjakan secara berurutan, mulai pertama sampai terakhir."
   ]
  },
  {
   "cell_type": "code",
   "execution_count": null,
   "metadata": {},
   "outputs": [],
   "source": [
    "jam = int(input(\"masukkan jam = \"))\n",
    "menit = jam*60\n",
    "print(menit, \"menit\")"
   ]
  },
  {
   "cell_type": "markdown",
   "metadata": {},
   "source": [
    "2. Brancing : allgoritma pada brancing ada 2, yaitu true or false. jika pernyataan tersebut benar maka akan bernialai true dan sebaliknya"
   ]
  },
  {
   "cell_type": "code",
   "execution_count": null,
   "metadata": {},
   "outputs": [],
   "source": [
    "#angka kurang dari 11\n",
    "a = int(input(\"masukkan angka = \"))\n",
    "if a < 11:\n",
    "    print(a,\"adalah bilangan kurang dari sebelas\")\n",
    "elif a == 11:\n",
    "    print(\"angka adalah sebelas\")\n",
    "else:\n",
    "    print(a,\"adalah bilangan lebih dari 11\")"
   ]
  },
  {
   "cell_type": "markdown",
   "metadata": {},
   "source": [
    "3. Iteration : secara umum, pernyataan pada bahasa pemrograman akan dieksekusi secara berurutan "
   ]
  },
  {
   "cell_type": "code",
   "execution_count": null,
   "metadata": {},
   "outputs": [],
   "source": [
    "#misal\n",
    "p = int(input(\"masukkan angka = \"))\n",
    "for i in range(1, a+1):\n",
    "    if(i%2)==0:\n",
    "        print(i, end=\"\")"
   ]
  },
  {
   "cell_type": "markdown",
   "metadata": {},
   "source": [
    "#### STACK (Tumpukan)"
   ]
  },
  {
   "cell_type": "markdown",
   "metadata": {},
   "source": [
    "A. Pengertian Stack (Tumpukan)\n",
    "    Stack (Tumpukan) adalah kumpulan elemen-elemen data yang disimpan dalam satu lajur linear.\n",
    "    Kumpulan elemen-elemen data hanya boleh diakses pada satu lokasi saja yaitu posisi ATAS (TOP) tumpukan.<br>\n",
    "    \n",
    "B. Operasi – operasi pada Stack (Tumpukan) \n",
    "    1. Push : digunakan untuk menembah item pada Stack pada Tumpukan paling atas.\n",
    "    2. Pop : digunakan untuk mengambil item pada Stack pada Tumpukan paling atas.\n",
    "    3. peek : digunakan untuk mengecek data yang paling atas.\n",
    "    4. isEmpty : digunakan untuk memeriksa pakah kosong atau tidak.\n",
    "    5. size : diguanakan untuk memberi informasi jumlah data."
   ]
  },
  {
   "cell_type": "code",
   "execution_count": 2,
   "metadata": {},
   "outputs": [],
   "source": [
    "def stack():\n",
    "    s=[]\n",
    "    return(s)\n",
    "\n",
    "def push():\n",
    "    s.append(dta)\n",
    "\n",
    "def pop(s):\n",
    "    data=s.pop()\n",
    "    return(data)\n",
    "\n",
    "def peek(s):\n",
    "    return(s[len(s)-1])\n",
    "\n",
    "def isEmpty(s):\n",
    "    return (s==[])\n",
    "\n",
    "def size(s):\n",
    "    return(len(s))"
   ]
  },
  {
   "cell_type": "markdown",
   "metadata": {},
   "source": [
    "### Prefix, Infix, and Postfix"
   ]
  },
  {
   "cell_type": "markdown",
   "metadata": {},
   "source": [
    "1. Infix     : Operator diletakan diantara operan. contoh = (a+b)*c\n",
    "2. Prefix   : Operator diletakan sebelum operan. contoh = *+abc\n",
    "3. Posfix  : Operator diletakan setelah operan. contoh = ab+c*"
   ]
  },
  {
   "cell_type": "markdown",
   "metadata": {},
   "source": [
    "### QUEUE (Antrian)"
   ]
  },
  {
   "cell_type": "markdown",
   "metadata": {},
   "source": [
    "Queue adalah suatu kumpulan data yang menggunakan konsep FIFO (first in first out) / LILO (last in last out) sehingga mirip dengan konsep antrian dalam kehidupan sehari-hari, dimana orang pertama yang mengantri adalah orang pertama juga yang akan keluar dari antrian tersebut sehingga queue menggunakan push belakang pop depan."
   ]
  },
  {
   "cell_type": "code",
   "execution_count": null,
   "metadata": {},
   "outputs": [],
   "source": [
    "def queue():\n",
    "    s=[]\n",
    "    return(s)\n",
    "\n",
    "def enqueue():\n",
    "    s.insert(0,i)\n",
    "    return(s)\n",
    "\n",
    "def dequeue(s):\n",
    "    return s.pop()\n",
    "\n",
    "def rear(s):\n",
    "    return(s[0])\n",
    "\n",
    "def front(s):\n",
    "    return(s[len(s)-1])\n",
    "\n",
    "def size(s):\n",
    "    return len(s)\n",
    "\n",
    "def isEmpty(s):\n",
    "    return(s==[])"
   ]
  }
 ],
 "metadata": {
  "kernelspec": {
   "display_name": "Python 3",
   "language": "python",
   "name": "python3"
  },
  "language_info": {
   "codemirror_mode": {
    "name": "ipython",
    "version": 3
   },
   "file_extension": ".py",
   "mimetype": "text/x-python",
   "name": "python",
   "nbconvert_exporter": "python",
   "pygments_lexer": "ipython3",
   "version": "3.7.1"
  }
 },
 "nbformat": 4,
 "nbformat_minor": 2
}
